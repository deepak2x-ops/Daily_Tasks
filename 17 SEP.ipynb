{
 "cells": [
  {
   "cell_type": "code",
   "execution_count": null,
   "id": "e1fa2fc7-6f68-4253-aef2-5a0f86e051d1",
   "metadata": {},
   "outputs": [
    {
     "name": "stdout",
     "output_type": "stream",
     "text": [
      "13\n",
      "7\n",
      "30\n",
      "3.3333333333333335\n",
      "1\n",
      "1000\n",
      "3\n"
     ]
    }
   ],
   "source": [
    "#Arithmetic operators\n",
    "a = 10\n",
    "b = 3\n",
    "print(a+b)\n",
    "print(a-b)\n",
    "print(a*b)\n",
    "print(a/b)\n",
    "print(a%b)\n",
    "print(a**b)\n",
    "print(a//b)"
   ]
  },
  {
   "cell_type": "code",
   "execution_count": null,
   "id": "03968136-3cdf-46aa-b39d-99c128e8ea1d",
   "metadata": {},
   "outputs": [
    {
     "name": "stdout",
     "output_type": "stream",
     "text": [
      "False\n",
      "True\n",
      "False\n",
      "False\n"
     ]
    }
   ],
   "source": [
    "#Logical operators\n",
    "x = True\n",
    "y = False\n",
    "print(x and y)\n",
    "print(x or y)\n",
    "print(not (x or y))\n",
    "print(not (x) and y)"
   ]
  },
  {
   "cell_type": "code",
   "execution_count": null,
   "id": "2bdb3931-f981-434a-a3c7-2b9889302f42",
   "metadata": {},
   "outputs": [
    {
     "name": "stdout",
     "output_type": "stream",
     "text": [
      "False\n",
      "True\n",
      "False\n",
      "True\n",
      "False\n",
      "True\n"
     ]
    }
   ],
   "source": [
    "#comparison operators\n",
    "c = 5  \n",
    "d = 10\n",
    "print(c == d) \n",
    "print(c != d)\n",
    "print(c > d)    \n",
    "print(c < d)\n",
    "print(c >= d)\n",
    "print(c <= d)\n"
   ]
  },
  {
   "cell_type": "code",
   "execution_count": null,
   "id": "4b566e0f",
   "metadata": {},
   "outputs": [
    {
     "name": "stdout",
     "output_type": "stream",
     "text": [
      "False\n",
      "True\n"
     ]
    }
   ],
   "source": [
    "#identity operators\n",
    "e = 20\n",
    "f = 25  \n",
    "print(e is f)\n",
    "print(e is not f)"
   ]
  },
  {
   "cell_type": "code",
   "execution_count": null,
   "id": "a1d5954b",
   "metadata": {},
   "outputs": [
    {
     "name": "stdout",
     "output_type": "stream",
     "text": [
      "True\n",
      "True\n",
      "False\n",
      "False\n"
     ]
    }
   ],
   "source": [
    "#membership operators\n",
    "g = [1, 2, 3, 4, 5]\n",
    "print(3 in g)\n",
    "print(6 not in g)\n",
    "print(3 not in g)\n",
    "print(6 in g)\n"
   ]
  },
  {
   "cell_type": "code",
   "execution_count": null,
   "id": "26470bad",
   "metadata": {},
   "outputs": [
    {
     "name": "stdout",
     "output_type": "stream",
     "text": [
      "1\n",
      "7\n",
      "6\n",
      "10\n",
      "2\n"
     ]
    }
   ],
   "source": [
    "#bitwise operators\n",
    "h = 5  \n",
    "i = 3     \n",
    "print(h & i)  #AND\n",
    "print(h | i)  #OR\n",
    "print(h ^ i)  #XOR\n",
    "print(h << 1) #Left Shift\n",
    "print(h >> 1) #Right Shift\n",
    "print(~h)     #NOT\n"
   ]
  },
  {
   "cell_type": "code",
   "execution_count": null,
   "id": "1ca909c4",
   "metadata": {},
   "outputs": [
    {
     "name": "stdout",
     "output_type": "stream",
     "text": [
      "False\n",
      "True\n",
      "False\n",
      "True\n",
      "True\n",
      "False\n"
     ]
    }
   ],
   "source": [
    "#boolean operators\n",
    "j = True\n",
    "k = False\n",
    "print(j and k)\n",
    "print(j or k)\n",
    "print(not j)\n",
    "print(not k)\n",
    "print(j and not k)\n",
    "print(not j or k)\n"
   ]
  },
  {
   "cell_type": "code",
   "execution_count": null,
   "id": "70ed8e5e",
   "metadata": {},
   "outputs": [
    {
     "name": "stdout",
     "output_type": "stream",
     "text": [
      "20\n",
      "3\n"
     ]
    }
   ],
   "source": [
    "#assignment operators\n",
    "l = 10\n",
    "m = 5\n",
    "l += 10\n",
    "m -= 2\n",
    "print(l)\n",
    "print(m)\n"
   ]
  },
  {
   "cell_type": "code",
   "execution_count": null,
   "id": "e71d0267",
   "metadata": {},
   "outputs": [
    {
     "name": "stdout",
     "output_type": "stream",
     "text": [
      "True\n",
      "False\n",
      "True\n",
      "False\n",
      "False\n",
      "True\n"
     ]
    }
   ],
   "source": [
    "#relational operators\n",
    "n = 15\n",
    "o = 20\n",
    "print(n < o)\n",
    "print(n > o)\n",
    "print(n <= o)\n",
    "print(n >= o)\n",
    "print(n == o)\n",
    "print(n != o)"
   ]
  }
 ],
 "metadata": {
  "kernelspec": {
   "display_name": "dailytask1",
   "language": "python",
   "name": "python3"
  },
  "language_info": {
   "codemirror_mode": {
    "name": "ipython",
    "version": 3
   },
   "file_extension": ".py",
   "mimetype": "text/x-python",
   "name": "python",
   "nbconvert_exporter": "python",
   "pygments_lexer": "ipython3",
   "version": "3.13.7"
  }
 },
 "nbformat": 4,
 "nbformat_minor": 5
}
