{
 "cells": [
  {
   "cell_type": "code",
   "execution_count": 3,
   "id": "02765e92-16c6-4f90-ada2-d5f7cacb4427",
   "metadata": {},
   "outputs": [
    {
     "name": "stdin",
     "output_type": "stream",
     "text": [
      "enter the no between 100 to 200 :  120\n"
     ]
    },
    {
     "name": "stdout",
     "output_type": "stream",
     "text": [
      "120 is divisible by 5\n"
     ]
    }
   ],
   "source": [
    "num=int(input(\"enter the no between 100 to 200 : \"))\n",
    "if num>=100 and num<=200:\n",
    "    if num%5==0:\n",
    "        print(f\"{num} is divisible by 5\")\n",
    "    else:\n",
    "        print(f\"{num} is not divisible by 5\")\n",
    "else:\n",
    "    print(\"You entered the wrong number\")\n",
    "    \n",
    "        \n",
    "    "
   ]
  },
  {
   "cell_type": "code",
   "execution_count": null,
   "id": "973a030e-2a5f-4417-91bd-2e7ef4843be1",
   "metadata": {},
   "outputs": [],
   "source": []
  }
 ],
 "metadata": {
  "kernelspec": {
   "display_name": "Python 3 (ipykernel)",
   "language": "python",
   "name": "python3"
  },
  "language_info": {
   "codemirror_mode": {
    "name": "ipython",
    "version": 3
   },
   "file_extension": ".py",
   "mimetype": "text/x-python",
   "name": "python",
   "nbconvert_exporter": "python",
   "pygments_lexer": "ipython3",
   "version": "3.13.7"
  }
 },
 "nbformat": 4,
 "nbformat_minor": 5
}
