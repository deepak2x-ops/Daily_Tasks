{
 "cells": [
  {
   "cell_type": "code",
   "execution_count": 6,
   "id": "d46df8dc-2dda-4b9d-b3c8-9372ee09f9de",
   "metadata": {},
   "outputs": [
    {
     "name": "stdin",
     "output_type": "stream",
     "text": [
      "Enter a number:  234\n"
     ]
    },
    {
     "name": "stdout",
     "output_type": "stream",
     "text": [
      "Square root of 234.0 is 15.297058540778355\n"
     ]
    }
   ],
   "source": [
    "import math\n",
    "try:\n",
    "    num = input(\"Enter a number: \")\n",
    "    num = float(num)\n",
    "    if num < 0:\n",
    "        raise ValueError(\"Cannot calculate square root of a negative number.\")\n",
    "    result = math.sqrt(num)\n",
    "    print(f\"Square root of {num} is {result}\")\n",
    "except ValueError as ve:\n",
    "    print(\"Error:\", ve)\n",
    "except Exception as e:\n",
    "    print(\"Unexpected error:\", e)\n"
   ]
  },
  {
   "cell_type": "code",
   "execution_count": null,
   "id": "aa1f0ca4-b51d-4735-ae08-ea05cfd3b810",
   "metadata": {},
   "outputs": [],
   "source": []
  }
 ],
 "metadata": {
  "kernelspec": {
   "display_name": "Python 3 (ipykernel)",
   "language": "python",
   "name": "python3"
  },
  "language_info": {
   "codemirror_mode": {
    "name": "ipython",
    "version": 3
   },
   "file_extension": ".py",
   "mimetype": "text/x-python",
   "name": "python",
   "nbconvert_exporter": "python",
   "pygments_lexer": "ipython3",
   "version": "3.13.7"
  }
 },
 "nbformat": 4,
 "nbformat_minor": 5
}
