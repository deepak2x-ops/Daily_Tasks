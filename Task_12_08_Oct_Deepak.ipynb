{
 "cells": [
  {
   "cell_type": "code",
   "execution_count": 7,
   "id": "2784f92e-4b4b-4ea5-a56f-e84ca3232671",
   "metadata": {},
   "outputs": [
    {
     "name": "stdout",
     "output_type": "stream",
     "text": [
      "Start\n",
      " 5\n",
      " 2\n",
      " 3\n"
     ]
    }
   ],
   "source": [
    "def file_processing_decorator(func):\n",
    "    def wrapper(*args, **kwargs):\n",
    "        print(\"Start\")\n",
    "        return func(*args, **kwargs)\n",
    "    return wrapper\n",
    "\n",
    "\n",
    "@file_processing_decorator\n",
    "\n",
    "def process_file(filename):\n",
    "    total_lines = 0\n",
    "    blank_lines = 0\n",
    "    non_empty_lines = 0\n",
    "\n",
    "    with open(filename, 'r') as file:\n",
    "        for line in file:\n",
    "            total_lines += 1\n",
    "            if line.strip() == \"\":\n",
    "                blank_lines += 1\n",
    "            else:\n",
    "                non_empty_lines += 1\n",
    "\n",
    "    print(f\" {total_lines}\")\n",
    "    print(f\" {blank_lines}\")\n",
    "    print(f\" {non_empty_lines}\")\n",
    "\n",
    "\n",
    "\n",
    "process_file(\"deepaks1.txt\")\n"
   ]
  },
  {
   "cell_type": "code",
   "execution_count": 6,
   "id": "94726902-6600-4253-bb71-e8e75e8b2db6",
   "metadata": {},
   "outputs": [],
   "source": [
    "# file creation\n",
    "with open(\"deepaks1.txt\", \"w\") as file:\n",
    "    file.write(\"camlin smoother and brighter pages.\\n\")\n",
    "    file.write(\"\\n\")  \n",
    "    file.write(\"scan to print on t-shirt\\n\")\n",
    "    file.write(\"camlin marketed by kokuyo b\\n\")\n",
    "    file.write(\"\\n\")  \n"
   ]
  },
  {
   "cell_type": "code",
   "execution_count": null,
   "id": "e3b4d54e-3ce3-4226-bbdc-630699baf9a4",
   "metadata": {},
   "outputs": [],
   "source": []
  }
 ],
 "metadata": {
  "kernelspec": {
   "display_name": "Python 3 (ipykernel)",
   "language": "python",
   "name": "python3"
  },
  "language_info": {
   "codemirror_mode": {
    "name": "ipython",
    "version": 3
   },
   "file_extension": ".py",
   "mimetype": "text/x-python",
   "name": "python",
   "nbconvert_exporter": "python",
   "pygments_lexer": "ipython3",
   "version": "3.13.8"
  }
 },
 "nbformat": 4,
 "nbformat_minor": 5
}
