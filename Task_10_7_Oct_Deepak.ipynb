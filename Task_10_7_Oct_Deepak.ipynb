{
 "cells": [
  {
   "cell_type": "code",
   "execution_count": 10,
   "id": "4b316492-cc2a-416a-bc70-c3af6cfe1dee",
   "metadata": {},
   "outputs": [
    {
     "name": "stdout",
     "output_type": "stream",
     "text": [
      "Hello deepak good morning\n"
     ]
    }
   ],
   "source": [
    "def create_message(name):\n",
    "    def add_greeting(msg) :\n",
    "        return f\"Hello {name} {msg}\"\n",
    "    return add_greeting(\"good morning\")\n",
    "print(create_message(\"deepak\"))    \n",
    "    "
   ]
  }
 ],
 "metadata": {
  "kernelspec": {
   "display_name": "Python 3 (ipykernel)",
   "language": "python",
   "name": "python3"
  },
  "language_info": {
   "codemirror_mode": {
    "name": "ipython",
    "version": 3
   },
   "file_extension": ".py",
   "mimetype": "text/x-python",
   "name": "python",
   "nbconvert_exporter": "python",
   "pygments_lexer": "ipython3",
   "version": "3.13.7"
  }
 },
 "nbformat": 4,
 "nbformat_minor": 5
}
