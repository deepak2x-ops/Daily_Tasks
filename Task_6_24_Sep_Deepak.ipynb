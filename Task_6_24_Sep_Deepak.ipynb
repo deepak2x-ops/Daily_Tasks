{
 "cells": [
  {
   "cell_type": "code",
   "execution_count": 11,
   "id": "2d656e16-2c7c-4753-a2de-137e332642c5",
   "metadata": {},
   "outputs": [
    {
     "name": "stdout",
     "output_type": "stream",
     "text": [
      "sorted Lengths : (5, 6, 7, 9, 13)\n"
     ]
    }
   ],
   "source": [
    "countries = [\"India\", \"United States\", \"Australia\", \"Brazil\", \"Canada\", \"Germany\", \"Japan\"]\n",
    "country_lengths = {country: len(country) for country in countries}\n",
    "unique_lengths = set(country_lengths.values())\n",
    "sorted_lengths = tuple(sorted(unique_lengths))\n",
    "print(\"sorted Lengths :\", sorted_lengths)\n"
   ]
  },
  {
   "cell_type": "code",
   "execution_count": null,
   "id": "125c9dc6-fb0b-48d4-98f3-d102acf07804",
   "metadata": {},
   "outputs": [],
   "source": []
  }
 ],
 "metadata": {
  "kernelspec": {
   "display_name": "Python 3 (ipykernel)",
   "language": "python",
   "name": "python3"
  },
  "language_info": {
   "codemirror_mode": {
    "name": "ipython",
    "version": 3
   },
   "file_extension": ".py",
   "mimetype": "text/x-python",
   "name": "python",
   "nbconvert_exporter": "python",
   "pygments_lexer": "ipython3",
   "version": "3.13.7"
  }
 },
 "nbformat": 4,
 "nbformat_minor": 5
}
