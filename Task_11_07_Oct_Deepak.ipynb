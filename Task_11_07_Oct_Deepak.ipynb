{
 "cells": [
  {
   "cell_type": "code",
   "execution_count": 8,
   "id": "83d62ce3-225b-480a-8958-10978b1a2968",
   "metadata": {},
   "outputs": [
    {
     "name": "stdout",
     "output_type": "stream",
     "text": [
      "Start\n",
      "hello Deepak\n",
      "End\n"
     ]
    }
   ],
   "source": [
    "def log_start(fun):\n",
    "    def wrapper(*args,**kwargs):\n",
    "        print(\"Start\")\n",
    "        return fun(*args,**kwargs)\n",
    "    return wrapper \n",
    "\n",
    "def log_end(fun):\n",
    "    def wrapper(*args,**kwargs):\n",
    "        result = fun(*args,**kwargs)\n",
    "        print(\"End\")\n",
    "        return result\n",
    "    return wrapper\n",
    "\n",
    "@log_start\n",
    "@log_end\n",
    "\n",
    "def nameeee(name):\n",
    "    print(f\"hello {name}\")\n",
    "\n",
    "nameeee(\"Deepak\")    \n"
   ]
  }
 ],
 "metadata": {
  "kernelspec": {
   "display_name": "Python 3 (ipykernel)",
   "language": "python",
   "name": "python3"
  },
  "language_info": {
   "codemirror_mode": {
    "name": "ipython",
    "version": 3
   },
   "file_extension": ".py",
   "mimetype": "text/x-python",
   "name": "python",
   "nbconvert_exporter": "python",
   "pygments_lexer": "ipython3",
   "version": "3.13.7"
  }
 },
 "nbformat": 4,
 "nbformat_minor": 5
}
