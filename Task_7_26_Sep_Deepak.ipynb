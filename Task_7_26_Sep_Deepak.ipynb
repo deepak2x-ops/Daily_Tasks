{
 "cells": [
  {
   "cell_type": "code",
   "execution_count": 5,
   "id": "b821199b-bf55-40cb-b1aa-c53b09e37002",
   "metadata": {},
   "outputs": [
    {
     "name": "stdout",
     "output_type": "stream",
     "text": [
      "Previous color : green\n",
      "after color : pink\n"
     ]
    }
   ],
   "source": [
    "class car:\n",
    "    def __init__(self,color):\n",
    "        self.color = color\n",
    "car1=car(\"green\")     \n",
    "print(\"Previous color :\",car1.color)\n",
    "setattr(car1,\"color\",\"pink\")\n",
    "print(\"after color :\",car1.color)"
   ]
  }
 ],
 "metadata": {
  "kernelspec": {
   "display_name": "Python 3 (ipykernel)",
   "language": "python",
   "name": "python3"
  },
  "language_info": {
   "codemirror_mode": {
    "name": "ipython",
    "version": 3
   },
   "file_extension": ".py",
   "mimetype": "text/x-python",
   "name": "python",
   "nbconvert_exporter": "python",
   "pygments_lexer": "ipython3",
   "version": "3.13.7"
  }
 },
 "nbformat": 4,
 "nbformat_minor": 5
}
