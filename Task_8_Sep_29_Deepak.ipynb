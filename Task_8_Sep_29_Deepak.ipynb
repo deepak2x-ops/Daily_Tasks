{
 "cells": [
  {
   "cell_type": "code",
   "execution_count": 4,
   "id": "6fa1dee4-dcfc-4d42-8f4a-7b8f0c69fc28",
   "metadata": {},
   "outputs": [
    {
     "name": "stdout",
     "output_type": "stream",
     "text": [
      "The area of the Circle is: 78.54\n",
      "The area of the Square is: 16.00\n"
     ]
    }
   ],
   "source": [
    "import math\n",
    "\n",
    "class Circle:\n",
    "    def __init__(self, radius):\n",
    "        self.radius = radius    \n",
    "\n",
    "    def area(self):\n",
    "        return math.pi * (self.radius ** 2)\n",
    "class Square:\n",
    "    def __init__(self, side):\n",
    "        self.side = side \n",
    "\n",
    "    def area(self):\n",
    "        return self.side * self.side  \n",
    "        \n",
    "def show_shape_area(shape):\n",
    "    print(f\"The area of the {shape.__class__.__name__} is: {shape.area():.2f}\")\n",
    "\n",
    "\n",
    "circle = Circle(5)\n",
    "square = Square(4)\n",
    "\n",
    "show_shape_area(circle)\n",
    "show_shape_area(square)\n"
   ]
  }
 ],
 "metadata": {
  "kernelspec": {
   "display_name": "Python 3 (ipykernel)",
   "language": "python",
   "name": "python3"
  },
  "language_info": {
   "codemirror_mode": {
    "name": "ipython",
    "version": 3
   },
   "file_extension": ".py",
   "mimetype": "text/x-python",
   "name": "python",
   "nbconvert_exporter": "python",
   "pygments_lexer": "ipython3",
   "version": "3.13.7"
  }
 },
 "nbformat": 4,
 "nbformat_minor": 5
}
