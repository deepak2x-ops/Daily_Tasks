{
 "cells": [
  {
   "cell_type": "code",
   "execution_count": 9,
   "id": "6fa1dee4-dcfc-4d42-8f4a-7b8f0c69fc28",
   "metadata": {},
   "outputs": [
    {
     "name": "stdout",
     "output_type": "stream",
     "text": [
      "The area of the Circle is: 113.09733552923255\n",
      "The area of the Square is: 100\n",
      "The area of the Rectangle is: 96\n"
     ]
    }
   ],
   "source": [
    "import math\n",
    "\n",
    "class circle:\n",
    "    def __init__(self,radius):\n",
    "        self.radius = radius\n",
    "    def area(self):\n",
    "        return math.pi* (self.radius** 2)\n",
    "\n",
    "class square:\n",
    "    def __init__(self,side):\n",
    "        self.side = side\n",
    "    def area(self):\n",
    "        return self.side * self.side\n",
    "        \n",
    "class triangle:\n",
    "    def __init__(self,length,width):\n",
    "        self.length = length\n",
    "        self.width = width\n",
    "    def area(self):\n",
    "        return self.length * self.width   \n",
    "        \n",
    "def show_shape_area(shape):\n",
    "    print(f\"The area of the {shape.__class__.__name__} is: {shape.area()}\")    \n",
    "\n",
    "circle = Circle(6)\n",
    "square = Square(10)\n",
    "rectangle = Rectangle(8,12)   \n",
    "\n",
    "show_shape_area(circle)   \n",
    "show_shape_area(square)     \n",
    "show_shape_area(rectangle)"
   ]
  },
  {
   "cell_type": "code",
   "execution_count": null,
   "id": "df964a7b-03b1-4f0a-9a22-602f1cca14ad",
   "metadata": {},
   "outputs": [],
   "source": []
  }
 ],
 "metadata": {
  "kernelspec": {
   "display_name": "Python 3 (ipykernel)",
   "language": "python",
   "name": "python3"
  },
  "language_info": {
   "codemirror_mode": {
    "name": "ipython",
    "version": 3
   },
   "file_extension": ".py",
   "mimetype": "text/x-python",
   "name": "python",
   "nbconvert_exporter": "python",
   "pygments_lexer": "ipython3",
   "version": "3.13.7"
  }
 },
 "nbformat": 4,
 "nbformat_minor": 5
}
